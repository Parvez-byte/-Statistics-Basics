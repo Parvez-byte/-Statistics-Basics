{
  "nbformat": 4,
  "nbformat_minor": 0,
  "metadata": {
    "colab": {
      "provenance": []
    },
    "kernelspec": {
      "name": "python3",
      "display_name": "Python 3"
    },
    "language_info": {
      "name": "python"
    }
  },
  "cells": [
    {
      "cell_type": "markdown",
      "source": [
        "# Statistics Basics"
      ],
      "metadata": {
        "id": "T8_xajc6wagi"
      }
    },
    {
      "cell_type": "markdown",
      "source": [
        "1. Explain the different types of data (qualitative and quantitative) and provide examples of each. Discuss nominal, ordinal, interval, and ratio scales.\n",
        "- Data can be broadly classified into two main categories >>\n",
        "\n",
        "\n",
        "- Qualitative Data - Qualitative data, also known as categorical data, consists of words, labels, or categories that describe attributes or characteristics. This type of data is non-numerical and cannot be measured.\n",
        "\n",
        "\n",
        "- Example: Gender (Male, Female), Blood Group (A, B, AB, O), Eye Color (Black, Brown, Blue).\n",
        "  - Example - Gender (Male, Female), Blood Group (A, B, AB, O), Eye Color (Black, Brown, Blue).\n",
        "\n",
        "-  Quantitative Data -  Quantitative data, also known as numerical data, consists of numbers that can be measured or counted. This type of data can be further classified into discrete and continuous data.\n",
        "   - Discrete Data - This data can only take on specific, separate values (often whole numbers).\n",
        "      - Examples >> Number of students in a class, number of cars in a parking lot, number of heads when flipping a coin multiple times.\n",
        "   - Continuous Data: This data can take on any value within a given range, including fractions and decimals.\n",
        "      - Examples >> Height of a person, temperature of a room, weight of an object.\n",
        "\n",
        "\n",
        "- Nominal Scale - A nominal scale is a scale that categorizes data into distinct groups or labels without any quantitative value. The data is labeled, but there is no inherent order or hierarchy.\n",
        "  - Example of Nominal Scale >>\n",
        "    - Colors (red, blue, green)\n",
        "    - Nationality (Indian, American, Chinese)\n",
        "\n",
        "\n",
        "- Ordinal Scale - An ordinal scale is a scale that categorizes data into distinct groups or labels with a natural order or hierarchy. The data is labeled, and there is a clear order, but the differences between consecutive categories are not equal.\n",
        "  - Example of Ordinal Scale >>\n",
        "    - Education level (high school, undergraduate, graduate)\n",
        "    - Satisfaction rating (unsatisfied, neutral, satisfied)\n",
        "\n",
        "- Interval Scale - An interval scale is a scale that measures data with equal intervals between consecutive levels. The data is numerical, and the differences between consecutive levels are equal, but there is no true zero point.\n",
        "  - Example of Interval Scale >>\n",
        "    - Temperature (Celsius or Fahrenheit)\n",
        "    - IQ score\n",
        "\n",
        "- Ratio Scale - A ratio scale is a scale that measures data with equal intervals between consecutive levels and a true zero point. The data is numerical, and the differences between consecutive levels are equal, with a clear zero point.\n",
        "  - Example of Ratio Scale >>\n",
        "    - Weight (kilograms or pounds)\n",
        "    - Height (meters or feet)\n",
        "    - Age (years)\n",
        "\n",
        "\n",
        "\n",
        "\n",
        "\n"
      ],
      "metadata": {
        "id": "KfCqN_Qowajz"
      }
    },
    {
      "cell_type": "markdown",
      "source": [
        "2. What are the measures of central tendency, and when should you use each? Discuss the mean, median, and mode with examples and situations where each is appropriate.\n",
        "- The central tendency is stated as the statistical measure that represents the single value of the entire distribution or a dataset. It aims to provide an accurate description of the entire data in the distribution.\n",
        "- Measures of central tendency help summarize a dataset by identifying a central value. The three main measures are >>\n",
        " - Mean (Average)\n",
        " - Median (Middle Value)\n",
        " - Mode (Most Frequent Value)\n",
        "\n",
        "\n",
        "\n",
        "-  Mean - The mean represents the average value of the dataset. It can be calculated as the sum of all the values in the dataset divided by the number of values. In general, it is considered as the arithmetic mean.\n",
        "\n",
        "    -  Formula >>  Mean = ( ΣX) ÷ N\n",
        "\n",
        "      - where X represents each value in the dataset, and N is the number of values.\n",
        "\n",
        "  - Example - Suppose you have the following exam scores >> 75, 80, 85, 90, 95\n",
        "      - Mean = 75+80+85+90+95/5 , =  425/5 = 85\n",
        "\n",
        "- When to Use Mean -\n",
        "   - When data is continuous and normally distributed.\n",
        "   - Suitable for datasets without extreme outliers.\n",
        "\n",
        "- Median (Middle Value) - Median is the middle value of the dataset in which the dataset is arranged in the ascending order or in descending order. When the dataset contains an even number of values, then the median value of the dataset can be found by taking the mean of the middle two values.\n",
        "   - Example - Suppose we have the following exam scores >>\n",
        "         - 23, 25, 27, 29, 31\n",
        "         - Median = 27 (since it is the middle value)\n",
        "\n",
        "  - When to use >>\n",
        "    - The data is not normally distributed or has a skewed distribution.\n",
        "    - The data has extreme outliers.\n",
        "    - You want a better representation of the data's central tendency when the mean is affected by outliers.\n",
        "\n",
        "- Mode - The mode is the most frequently occurring value in a dataset. A dataset can have multiple modes if there are multiple values that occur with the same frequency.\n",
        "  - Example - Suppose we have the following colors >>\n",
        "    - Red, Blue, Red, Green, Red, Blue\n",
        "    - Mode = Red (since it occurs most frequently)\n",
        "\n",
        "  - When to use >>\n",
        "    - The data is categorical or nominal.\n",
        "    - You want to identify the most common value or category.\n",
        "\n",
        "- Situations and Examples >>\n",
        "  - Income data - Use the median instead of the mean, as income data often has extreme outliers (e.g., very high incomes).\n",
        "  - Exam scores: Use the mean if the scores are normally distributed. Use the median if the scores are skewed.\n",
        "  - Customer preferences: Use the mode to identify the most common preference or category.\n",
        "  - Temperature data: Use the mean if the data is normally distributed. Use the median if the data has extreme outliers (e.g., very high or low temperatures).\n",
        "\n",
        "​\n",
        "\n",
        "\n"
      ],
      "metadata": {
        "id": "u5en-t7fwanP"
      }
    },
    {
      "cell_type": "markdown",
      "source": [
        "3. Explain the concept of dispersion. How do variance and standard deviation measure the spread of data?\n",
        "- Dispersion in statistics is a way to describe how spread out or scattered the data is around an average value. It helps to understand if the data points are close together or far apart.Dispersion shows the variability or consistency in a set of data. There are different measures of dispersion like range, variance, and standard deviation.\n",
        "- How Variance and Standard Deviation Measure the Spread of Data >>\n",
        "  - Both variance and standard deviation measure how spread out the data points are from the mean. They indicate the level of variability in a dataset.\n",
        "    - Variance (σ² or s²) – Measures Overall Spread - Variance is the average of the squared differences from the mean.\n",
        "       > If variance is low, data points are closer to the mean (less spread).\n",
        "       \n",
        "       > If variance is high, data points are widely spread out from the mean.\n",
        "\n",
        "    - Standard Deviation (σ or s) – Measures Spread in Original Units - Standard deviation is simply the square root of variance. It tells us how much, on average, the data deviates from the mean in the same units as the original data.\n",
        "      > Low standard deviation → Most values are close to the mean.\n",
        "\n",
        "      > High standard deviation → Values are spread far apart.\n",
        "\n"
      ],
      "metadata": {
        "id": "qXJq8RF0wap9"
      }
    },
    {
      "cell_type": "markdown",
      "source": [
        "4. What is a box plot, and what can it tell you about the distribution of data?\n",
        "- Box Plot is a graphical method to visualize data distribution for gaining insights and making informed decisions. Box plot is a type of chart that depicts a group of numerical data through their quartiles.\n",
        "\n",
        "- box plot can tell you about the distribution of data >>\n",
        "  - Spread of Data (IQR - Interquartile Range) - The length of the box (Q3 - Q1) shows the interquartile range (IQR), which measures data spread.A wider box - More variability. A narrow box - Less variability.\n",
        "  - Median & Skewness - If the median line is in the center of the box, the distribution is symmetric. If the median is closer to Q1, it suggests right-skewed (positively skewed) data.If the median is closer to Q3, it suggests left-skewed (negatively skewed) data.\n",
        "  -  Outliers - Individual dots outside the whiskers represent outliers, which are extreme values.Individual dots outside the whiskers represent outliers, which are extreme values.\n",
        "  - Range & Extreme Values - The whiskers extend from minimum to maximum values (excluding outliers).Long whiskers indicate high variability, while short whiskers indicate less spread."
      ],
      "metadata": {
        "id": "MDXb4haAwatB"
      }
    },
    {
      "cell_type": "markdown",
      "source": [
        "5. Discuss the role of random sampling in making inferences about populations.\n",
        "- Random sampling is a technique used in statistics to select a subset (sample) from a larger group (population) in a way that every member has an equal chance of being chosen. This method ensures that the sample is representative, allowing us to make accurate inferences about the entire population without studying every individual. It Ensures representativeness, supports hypothesis testing, and allows population estimates.Random sampling is essential for reliable statistical inferences and data-driven decision-making."
      ],
      "metadata": {
        "id": "55dj2Jj1wavu"
      }
    },
    {
      "cell_type": "markdown",
      "source": [
        "6. Explain the concept of skewness and its types. How does skewness affect the interpretation of data?\n",
        "- Skewness is a statistical measure that describes the asymmetry of the distribution of values in a dataset. It indicates whether the data points are skewed to the left (negative skew) or the right (positive skew) relative to the mean. Skewness helps understand the underlying distribution of data, which is crucial for decision-making, risk assessment, and predicting future trends.\n",
        "- Skewness measures the asymmetry of a dataset’s distribution around its mean. A dataset is symmetrical if the left and right sides of its distribution are mirror images. If not, the data is skewed.\n",
        "\n",
        "- How Skewness Affects Data Interpretation >>\n",
        "  -  Impact on Central Tendency - In a skewed dataset, the mean is pulled in the direction of the skew and may not accurately represent the center.The median is a better measure of central tendency in skewed data.\n",
        "  - Effect on Decision Making - In right-skewed data (e.g., salaries), using the mean can overestimate what most people earn.In left-skewed data (e.g., test scores), the mean can underestimate actual performance.\n",
        "  - Influence on Statistical Models - Many statistical tests (like regression) assume normal distribution. High skewness can impact results and may require data transformation (log, square root, etc.).\n"
      ],
      "metadata": {
        "id": "yLUzTyAFwaye"
      }
    },
    {
      "cell_type": "markdown",
      "source": [
        "7. What is the interquartile range (IQR), and how is it used to detect outliers?\n",
        "- The interquartile range defines the difference between the third and the first quartile. Quartiles are the partitioned values that divide the whole series into 4 equal parts. So, there are 3 quartiles. First Quartile is denoted by Q1 known as the lower quartile, the second Quartile is denoted by Q2 and the third Quartile is denoted by Q3 known as the upper quartile. Therefore, the interquartile range is equal to the upper quartile minus lower quartile.\n",
        "\n",
        "\n",
        "- IQR is Used to Detect Outliers >>\n",
        "  - Outliers are values that are significantly higher or lower than the rest of the dataset.\n",
        "Using IQR, we define outliers as any data points that fall below or above these thresholds:\n",
        "\n",
        "              - Lower Bound=Q1−1.5×IQR\n",
        "              - Upper Bound=Q3+1.5×IQR\n",
        "\n",
        "  - Any value below the lower bound or above the upper bound is considered an outlier."
      ],
      "metadata": {
        "id": "L5qXgxrSwa1L"
      }
    },
    {
      "cell_type": "markdown",
      "source": [
        "8. Discuss the conditions under which the binomial distribution is used.\n",
        "- The binomial distribution is used when a random experiment satisfies the following four conditions >>\n",
        "- Fixed Number of Trials (n) - The experiment is repeated a fixed number of times (n).Example: Tossing a coin 10 times, conducting 20 product quality tests.\n",
        "- Two Possible Outcomes (Success/Failure) - Each trial results in only two possible outcomes:\n",
        "                - Success (S) (the desired outcome)\n",
        "                - Failure (F) (the undesired outcome)\n",
        "\n",
        "- Constant Probability of Success (p) - The probability of success (p) remains the same for every trial.The probability of failure is q = 1 - p.\n",
        "- Independent Trials - The outcome of one trial does not affect the outcome of another.Example - Tossing a coin multiple times – each flip is independent.\n"
      ],
      "metadata": {
        "id": "TKlCnZbWwa3v"
      }
    },
    {
      "cell_type": "markdown",
      "source": [
        "9. Explain the properties of the normal distribution and the empirical rule (68-95-99.7 rule).\n",
        "- The normal distribution, also called the Gaussian distribution, is a bell-shaped, symmetrical probability distribution widely used in statistics. It represents real-world data like IQ scores, human heights, exam scores, and stock returns.\n",
        "- Properties of Normal Distribution >>\n",
        "  - Symmetric Shape - The curve is perfectly symmetrical about the mean (μ).Mean = Median = Mode.\n",
        "  - Unimodal - The distribution has one peak at the mean.\n",
        "  - Defined by Mean (μ) and Standard Deviation (σ) - μ (Mean): The center of the distribution.σ (Standard Deviation): Measures the spread of data.\n",
        "  - Asymptotic to the X-Axis - The tails never touch the x-axis; probabilities approach zero but never reach it.\n",
        "  - Total Area = 1 - The total probability under the curve is 100% (or 1 in probability terms).\n",
        "  - Follows the Empirical Rule (68-95-99.7 Rule) - Describes how data is distributed within standard deviations.\n",
        "\n",
        "- Empirical Rule (68-95-99.7 Rule) - 68-95-99 rule is referred to as the Empirical Rule or also to says that the three-sigma rule which is a fundamental principle in statistics that offers a concise yet powerful insight into the distribution of data within a normal distribution.\n",
        "- The empirical rule states that in a normal distribution: >>\n",
        "  - 68% of data falls within 1 standard deviation (σ) of the mean.Range: μ - σ to μ + σ . Example: If μ = 70 and σ = 10, then 68% of values lie between 60 and 80.\n",
        "  - 95% of data falls within 2 standard deviations (2σ) of the mean.Range: μ - 2σ to μ + 2σ . Example: 95% of values lie between 50 and 90.\n",
        "  - 99.7% of data falls within 3 standard deviations (3σ) of the mean.Range: μ - 3σ to μ + 3σ . Example: 99.7% of values lie between 40 and 100."
      ],
      "metadata": {
        "id": "_EazowVVwa6u"
      }
    },
    {
      "cell_type": "markdown",
      "source": [
        "10. Provide a real-life example of a Poisson process and calculate the probability for a specific event.\n",
        "- Poisson Process Example: Emails Received per Hour\n",
        "\n",
        " - A company receives an average of 10 emails per hour. We assume emails arrive randomly and independently, making it a Poisson process with:\n",
        "\n",
        "  - λ = 10 emails per hour (average rate).\n",
        "  - We want to find the probability of receiving exactly 7 emails in an hour.\n",
        "\n",
        "          - Poisson Probability Formula\n",
        "\n",
        "            P(X = k) = (e^(-λ) * λ^k) / k!\n",
        "\n",
        "           where:\n",
        "\n",
        "            λ = 10 (mean emails per hour)\n",
        "            k = 7 (desired number of emails)\n",
        "            e ≈ 2.718\n",
        "          - Calculation for k = 7 Emails\n",
        "\n",
        "            P(X = 7) = (e^(-10) * 10^7) / 7!\n",
        "\n",
        "             = (2.718^(-10) * 10,000,000) / 5040\n",
        "\n",
        "             = (0.000045 * 10,000,000) / 5040\n",
        "\n",
        "             = 450 / 5040 ≈ 0.0893\n",
        "\n",
        "So, the probability of receiving exactly 7 emails in an hour is 8.93%."
      ],
      "metadata": {
        "id": "RwMguYgAwa9l"
      }
    },
    {
      "cell_type": "markdown",
      "source": [
        "11. Explain what a random variable is and differentiate between discrete and continuous random variables.\n",
        "- A random variable is a mathematical representation of a variable whose possible values are determined by chance events. It is a function that assigns a numerical value to each outcome of a random experiment. Random variables are used to model and analyze uncertain events in various fields, such as statistics, engineering, economics, and finance.\n",
        "\n",
        "- Discrete Random Variables - A discrete random variable is a random variable that can take on only a countable number of distinct values. These values can be finite or infinite, but they must be countable.\n",
        "  - Examples of Discrete Random Variables >>\n",
        "   - The number of heads obtained when flipping a coin three times (possible values: 0, 1, 2, 3)\n",
        "   - The number of defective items in a batch of 10 items (possible values: 0, 1, 2, ..., 10)\n",
        "   - The number of defective items in a batch of 10 items (possible values: 0, 1, 2, ..., 10)\n",
        "   - The outcome of a roll of a fair six-sided die (possible values: 1, 2, 3, 4, 5, 6)\n",
        "\n",
        "- Continuous Random Variables - A continuous random variable is a random variable that can take on any value within a given interval or range, including fractions and decimals. The number of possible values is uncountable.\n",
        "   - Examples of Continuous Random Variables >>\n",
        "     - The height of a person in meters (possible values: any real number between 0 and 3, for example)\n",
        "     - The time it takes for a chemical reaction to complete (possible values: any positive real number)\n",
        "\n",
        "- Key differences between Discrete and Continuous Random Variables >>\n",
        "  - Number of possible values: Discrete random variables have a countable number of possible values, while continuous random variables have an uncountable number of possible values.\n",
        "  - Values: Discrete random variables can only take on specific, distinct values, while continuous random variables can take on any value within a given range.\n",
        "  - Probability distribution: Discrete random variables have a probability mass function (PMF), while continuous random variables have a probability density function (PDF).\n",
        "\n",
        "\n"
      ],
      "metadata": {
        "id": "aHidxH6qwbAY"
      }
    },
    {
      "cell_type": "markdown",
      "source": [
        "12. Provide an example dataset, calculate both covariance and correlation, and interpret the results.\n",
        "- Let's consider a dataset of exam scores and hours studied for 5 students\n",
        "           - +----------+-----------+---------------+\n",
        "             | Student  | Exam Score | Hours Studied |\n",
        "             +==========+===========+===============+\n",
        "             | 1        | 85         | 8             |\n",
        "             | 2        | 90         | 10            |\n",
        "             | 3        | 78         | 6             |\n",
        "             | 4        | 92         | 12            |\n",
        "             | 5        | 88         | 9             |\n",
        "            +----------+-----------+---------------+\n",
        "\n",
        " - Covariance measures the linear relationship between two variables.\n",
        "  - We'll calculate the covariance between Exam Score and Hours Studied.\n",
        "  - Covariance (X, Y) = Σ[(xi - μx)(yi - μy)] / (n - 1)\n",
        "  - where xi and yi are individual data points, μx and μy are the means of the variables, and n is the number of data points.\n",
        "  - Exam Score mean (μx) = (85 + 90 + 78 + 92 + 88) / 5 = 86.6\n",
        "  - Hours Studied mean (μy) = (8 + 10 + 6 + 12 + 9) / 5 = 9\n",
        "- Now, let's calculate the covariance:\n",
        "  - Covariance (Exam Score, Hours Studied) = [(85-86.6)(8-9) + (90-86.6)(10-9) + ... + (88-86.6)(9-9)] / (5 - 1)\n",
        "  - Covariance (Exam Score, Hours Studied) ≈ 10.4\n",
        "- Calculating Correlation - Correlation measures the strength and direction of the linear relationship between two variables. We'll calculate the correlation coefficient (r) using the covariance and standard deviations.\n",
        "  - Correlation Coefficient (r) = Covariance (X, Y) / (σx * σy)\n",
        "  - where σx and σy are the standard deviations of the variables.\n",
        "  - Exam Score standard deviation (σx) ≈ 5.59\n",
        "  - Hours Studied standard deviation (σy) ≈ 2.19\n",
        "  - Now, let's calculate the correlation coefficient:\n",
        "  - r = 10.4 / (5.59 * 2.19) ≈ 0.86\n",
        "- Interpreting the Results >>\n",
        "  - The covariance value of 10.4 indicates a positive linear relationship between Exam Score and Hours Studied. As the number of hours studied increases, the exam score also tends to increase.\n",
        "  - The correlation coefficient (r) of 0.86 indicates a strong positive linear relationship between the two variables. This means that as the number of hours studied increases, the exam score tends to increase in a predictable and consistent manner.\n",
        "  - In conclusion, the results suggest that there is a strong positive linear relationship between the number of hours studied and exam scores. This implies that students who study more tend to perform better on exams."
      ],
      "metadata": {
        "id": "NN934mfKgJhC"
      }
    }
  ]
}